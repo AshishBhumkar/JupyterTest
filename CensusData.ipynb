import pandas as pd
import censusdata
from censusdata import censusgeo
from census import Census
from us import states
import os, sys, string

pd.set_option('display.expand_frame_repr', False)
pd.set_option('display.precision', 10)
palette.reverse()
EXCLUDED = ("ak", "hi", "pr", "gu", "vi", "mp", "as")

'''
This class use to download, format and play with the data available on Census
'''
class CensusData:
    '''
    Download the data from Census
    '''
    def download_county_state_census_data(self):
        # Download censusgeo for all county
        # Codes for specfic type of data to load. We usually consider the data for Gender who earn more than 100K,
        # Students with bachloer degrees, and people between age 20 to 44
        # This data is for year 2015
        county65plus = censusdata.download('acs1', 2015, censusdata.censusgeo([('county', '*')]),
                                   ['B28006_001E', 'B01001_020E', 'B01001_021E', 'B01001_022E', 'B01001_023E',
                                    'B01001_024E', 'B01001_025E', 'B01001_044E', 'B01001_045E', 'B01001_046E',
                                    'B01001_047E', 'B01001_048E', 'B01001_049E'])
        county65plus.describe()
        censusdata.censustable('acs1', 2016, 'B01001G')
        censusgeo([('state', '06'), ('place', '53000')], 'Oakland city, California')
        censusgeo([('state', '06'), ('place', '53000')], 'Oakland city, California')
        
        
        # Download censusgeo for all county
        # Codes for specfic type of data to load. We usually consider the data for Gender who earn more than 100K,
        # Students with bachloer degrees, and people between age 20 to 44
        # This data is for year 2016
        relevant_data = censusdata.download('acs1', 2016, censusdata.censusgeo([('state', '*'), ('county', '*')]), ['B20001_022E','B20001_043E', 'B28006_014E','B28006_015E','B28006_016E','B28006_017E','B28006_018E','B28006_019E','B01001G_008E','B01001G_009E','B01001G_010E','B01001G_011E','C15003_015E','C15003_018E','C15003_016E','C15003_017E'])
        # Filtering out data for student have bachelor degree
        relevant_data['bachelor_degree_plus'] = relevant_data.B28006_014E + relevant_data.B28006_015E + relevant_data.B28006_016E+relevant_data.B28006_017E+relevant_data.B28006_018E+relevant_data.B28006_019E
        # Filtering out data for people between age 20 to 44
        relevant_data['between_20_44'] = relevant_data.B01001G_008E + relevant_data.B01001G_009E + relevant_data.B01001G_010E + relevant_data.B01001G_011E
        # Filtering out data for Male who earn more than 100K
        relevant_data=relevant_data.rename(columns={'B20001_022E':'male_greater_100k'})
        # Filtering out data for Female who earn more than 100K
        relevant_data=relevant_data.rename(columns={'B20001_043E':'femals_greater_100k'})
        
        pd.set_option('display.max_rows', len(relevant_data))
        relevant_data = relevant_data.fillna(0)
        # Clearing other types 
        relevant_data = relevant_data.drop(['B28006_014E','B28006_015E','B28006_016E','B28006_017E','B28006_018E','B28006_019E','B01001G_008E','B01001G_009E','B01001G_010E','B01001G_011E','C15003_015E','C15003_018E','C15003_016E','C15003_017E'],axis=1)
        censusdata.export.exportcsv('sample_final.csv', relevant_data)
        print('---- Census Data downloaded successfully ----')
        
    '''
    Clean the file downloaded from census to required format
    '''
    def clean_file(self):
        s = open("sample_final.csv").read()
        s = s.replace('County', '')
        s = s.replace('"', '')
        s = s.replace(' ', '')
        f = open("sample_final.csv", 'w')
        f.write(s)
        f.close()
        with open("sample_final.csv",'r') as f:
            with open("updated_test.csv",'w') as f1:
                f.next() # skip header line
                for line in f:
                    f1.write(line)
        # Upload data to s3 bucket
        print('---- Data loaded successfully to file -----')

        
data = CensusData()
data.download_county_state_census_data()
data.clean_file()      
